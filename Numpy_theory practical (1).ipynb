{
  "metadata": {
    "kernelspec": {
      "name": "python",
      "display_name": "Python (Pyodide)",
      "language": "python"
    },
    "language_info": {
      "codemirror_mode": {
        "name": "python",
        "version": 3
      },
      "file_extension": ".py",
      "mimetype": "text/x-python",
      "name": "python",
      "nbconvert_exporter": "python",
      "pygments_lexer": "ipython3",
      "version": "3.8"
    }
  },
  "nbformat_minor": 4,
  "nbformat": 4,
  "cells": [
    {
      "cell_type": "raw",
      "source": "Theory Questions:",
      "metadata": {}
    },
    {
      "cell_type": "markdown",
      "source": "1) Explain the purpose and advantages of NumPy in scientific computing and data analysis. How does it \nenhance Python's capabilities for numerical operations.",
      "metadata": {}
    },
    {
      "cell_type": "markdown",
      "source": "ANS:NumPy (Numerical Python) is a fundamental library for scientific computing and data analysis in Python. It provides a high-performance multidimensional array object and tools for working with these arrays. Here’s a detailed look at its purpose, advantages, and how it enhances Python’s capabilities:\n\nA)Purpose of NumPy\n1)Multidimensional Arrays: NumPy introduces the ndarray object, a powerful and flexible array structure that supports large, multi-dimensional arrays and matrices. This is crucial for scientific computing where complex data structures and operations are often required.\n\n2)Mathematical Functions: It provides a wide range of mathematical functions to perform operations on arrays. These include basic operations like addition and multiplication, as well as more advanced functions like trigonometric functions, statistical functions, and linear algebra operations.\n\n3)Interoperability: NumPy arrays serve as a base for other scientific libraries like SciPy, pandas, and scikit-learn, making it easier to perform complex analyses and data manipulation.\n\nB)Advantages of NumPy\n1)Performance: NumPy is designed for high performance on large arrays and matrices. Its array operations are implemented in C, which means they execute faster than equivalent operations performed in pure Python. The use of contiguous memory blocks and vectorization (operations applied simultaneously across array elements) further enhances speed.\n\n2)Vectorization: NumPy supports vectorized operations, which means operations can be applied element-wise without the need for explicit loops. This leads to more concise and readable code as well as performance improvements due to optimized C-based implementations.\n\n3)Broadcasting: NumPy's broadcasting rules allow operations on arrays of different shapes and sizes, facilitating efficient computations. For instance, you can perform arithmetic operations between a scalar and an array without having to explicitly replicate the scalar across the array.\n\n4)Integration with Other Libraries: NumPy serves as the foundational library for scientific computing in Python. Many other libraries, such as SciPy (for scientific and technical computing), pandas (for data manipulation and analysis), and scikit-learn (for machine learning), rely on NumPy for array operations and data handling.\n\n5)Ease of Use: NumPy provides a wide range of easy-to-use functions and methods for data manipulation, such as reshaping arrays, slicing, indexing, and aggregating data. This simplicity makes it accessible even to those new to programming or scientific computing.\n\n6)Memory Efficiency: NumPy arrays are more memory-efficient compared to Python lists. This is because NumPy uses a fixed-size data type for its elements and stores them in contiguous blocks of memory, which minimizes overhead and improves cache performance.\n\n7)Rich Ecosystem: The extensive ecosystem of functions and tools provided by NumPy, including those for linear algebra, Fourier transforms, and random number generation, makes it a comprehensive tool for numerical and scientific computations.\n\nC)Enhancing Python’s Capabilities\n1)Speed and Efficiency: Python, being an interpreted language, is generally slower for numerical computations compared to compiled languages. NumPy enhances Python’s capabilities by offloading the computation-heavy tasks to its underlying C implementations, thus improving performance.\n\n2)Ease of Numerical Computation: Prior to NumPy, numerical computations in Python were less straightforward and often required manual implementation of algorithms. NumPy abstracts away much of this complexity, providing a set of pre-built, optimized functions that simplify numerical programming.\n\n3)Data Handling and Transformation: NumPy’s array operations and methods allow for efficient data handling and transformation. This is crucial for preprocessing data before performing more complex analyses or modeling tasks.\n\n4)Community and Support: Being a widely adopted library, NumPy benefits from a large community of users and contributors. This results in a wealth of resources, documentation, and third-party tools that enhance its functionality and usability.\n\nIn summary, NumPy greatly extends Python’s capabilities for numerical operations by providing a high-performance array structure, a rich set of mathematical functions, and tools for efficient computation and data manipulation. It forms the backbone of scientific computing in Python, enabling users to perform complex numerical and analytical tasks with ease and efficiency.\n\n\n\n",
      "metadata": {}
    },
    {
      "cell_type": "code",
      "source": "",
      "metadata": {
        "trusted": true
      },
      "outputs": [],
      "execution_count": null
    },
    {
      "cell_type": "markdown",
      "source": "2) Compare and contrast np.mean() and np.average() functions in NumPy. When would you use one over the \nother.",
      "metadata": {}
    },
    {
      "cell_type": "markdown",
      "source": "ANS:A)In NumPy, np.mean() and np.average() are two functions used to calculate the average of numerical data, but they have some differences in functionality. Here’s a detailed comparison:\n\n1)np.mean()\nPurpose: Computes the arithmetic mean of the elements in an array.\n\nSyntax: numpy.mean(a, axis=None, dtype=None, out=None, keepdims=False)\n\na: Array-like input.\n\naxis: Axis or axes along which the means are computed. By default, it computes the mean of the flattened array.\n\ndtype: Data type used for the computation. Defaults to the data type of a.\n\nout: An alternative output array in which to place the result.\n\nkeepdims: Whether to retain the reduced dimensions as single-dimensional or not.\n\nDefault Behavior: Calculates the mean of all elements in the array by default.\n\nUsage: Use np.mean() when you want a simple arithmetic mean of the array elements without any additional weighting.\n\n2)np.average()\n\nPurpose: Computes the weighted average of elements in an array.\n\nSyntax: numpy.average(a, axis=None, weights=None, returned=False)\n\na: Array-like input.\n\naxis: Axis or axes along which the averages are computed. By default, it computes the average of the flattened array.\n\nweights: Array of weights associated with the data. If provided, the average is computed as a weighted average.\n\nreturned: If True, it also returns the sum of the weights.\n\nDefault Behavior: Calculates the average of all elements in the array. If weights are provided, it computes the weighted average.\n\nUsage: Use np.average() when you need to compute a weighted average, where different elements contribute differently to the result based on their weights.\n\nB)Key Differences\nWeights:\n\nnp.mean() does not handle weights. It computes a simple arithmetic mean.\nnp.average() can handle weights, allowing for weighted averages.\nFunctionality:\n\nnp.mean() is straightforward and typically faster for computing an unweighted mean.\nnp.average() provides more flexibility with its support for weights and can also return the sum of weights when required.\nOutput:\n\nBoth functions can work along specified axes and can handle multidimensional arrays.\nnp.average() can return additional information (the sum of weights) when returned=True.\n\nc)When to Use Each\n1)Use np.mean() when you want to compute the simple mean of an array and do not need to consider weights\n\nimport numpy as np\ndata = [1, 2, 3, 4, 5]\nmean_value = np.mean(data)  # Outputs 3.0\n\n2)Use np.average() when you need to calculate a weighted average where different elements have different levels of significance\n\nimport numpy as np\ndata = [1, 2, 3, 4, 5]\nweights = [0.1, 0.2, 0.3, 0.2, 0.2]\nweighted_average = np.average(data, weights=weights)  # Computes weighted average\n\nIn summary, np.mean() is generally simpler and faster for calculating an average, while np.average() provides additional functionality for weighted averages. Choose based on whether you need to incorporate weights into your calculation.",
      "metadata": {}
    },
    {
      "cell_type": "code",
      "source": "",
      "metadata": {
        "trusted": true
      },
      "outputs": [],
      "execution_count": null
    },
    {
      "cell_type": "markdown",
      "source": "3) Describe the methods for reversing a NumPy array along different axes. Provide examples for 1D and 2D \narrays.",
      "metadata": {}
    },
    {
      "cell_type": "markdown",
      "source": "ANS:Reversing a NumPy array along different axes can be accomplished using various techniques.methods for both 1D and 2D arrays are:\n\n1)Reversing a 1D NumPy Array\nFor a 1D array:\nUsing Slicing",
      "metadata": {}
    },
    {
      "cell_type": "code",
      "source": "import numpy as np\n\n# Create a 1D array\narr = np.array([1, 2, 3, 4, 5])\n\n# Reverse the array\nreversed_arr = arr[::-1] #arr[::-1] creates a new array that starts from the end of arr and moves backwards, effectively reversing it.\n\nprint(\"Original array:\", arr) \nprint(\"Reversed array:\", reversed_arr)\n",
      "metadata": {
        "trusted": true
      },
      "outputs": [
        {
          "name": "stdout",
          "text": "Original array: [1 2 3 4 5]\nReversed array: [5 4 3 2 1]\n",
          "output_type": "stream"
        }
      ],
      "execution_count": 13
    },
    {
      "cell_type": "markdown",
      "source": "2)Reversing a 2D NumPy Array\nFor a 2D array, you can reverse the array along specific axes. \na)Reversing Along Axis 0 (Rows)\nb)Reversing Along Axis 1 (Rows)\nc)Reversing Along Both Axes",
      "metadata": {}
    },
    {
      "cell_type": "code",
      "source": "import numpy as np\n# Create a 2D array\narr = np.array([[1, 2, 3],\n                [4, 5, 6],\n                [7, 8, 9]])\n\n# Reverse the array along axis 0\nreversed_axis0 = arr[::-1, :] #arr[::-1, :] reverses the rows of the array. The : ensures that all columns \n                              #are kept in place while only the rows are reversed\nprint(\"Original array:\\n\", arr)\nprint(\"Reversed along axis 0:\\n\", reversed_axis0)",
      "metadata": {
        "trusted": true
      },
      "outputs": [
        {
          "name": "stdout",
          "text": "Original array:\n [[1 2 3]\n [4 5 6]\n [7 8 9]]\nReversed along axis 0:\n [[7 8 9]\n [4 5 6]\n [1 2 3]]\n",
          "output_type": "stream"
        }
      ],
      "execution_count": 14
    },
    {
      "cell_type": "code",
      "source": "# Reverse the array along axis 1\nreversed_axis1 = arr[:, ::-1]#arr[:, ::-1] reverses the columns of the array. The : ensures that all rows \n                            #are kept in place while only the columns are reversed.\nprint(\"Original array:\\n\", arr)\nprint(\"Reversed along axis 1:\\n\", reversed_axis1)\n\n",
      "metadata": {
        "trusted": true,
        "scrolled": true
      },
      "outputs": [
        {
          "name": "stdout",
          "text": "Original array:\n [[1 2 3]\n [4 5 6]\n [7 8 9]]\nReversed along axis 1:\n [[3 2 1]\n [6 5 4]\n [9 8 7]]\n",
          "output_type": "stream"
        }
      ],
      "execution_count": 15
    },
    {
      "cell_type": "code",
      "source": "import numpy as np\n\n# Create a 2D array\narr = np.array([[1, 2, 3],\n                [4, 5, 6],\n                [7, 8, 9]])\n\n# Reverse the array along both axes by combining slicing operations\nreversed_both_axes = arr[::-1, ::-1] # arr[::-1, ::-1] reverses the rows and columns of the array. This effectively flips \n                                      #the array both vertically and horizontally.\nprint(\"Original array:\\n\", arr)\nprint(\"Reversed along both axes:\\n\", reversed_both_axes)",
      "metadata": {
        "trusted": true
      },
      "outputs": [
        {
          "name": "stdout",
          "text": "Original array:\n [[1 2 3]\n [4 5 6]\n [7 8 9]]\nReversed along both axes:\n [[9 8 7]\n [6 5 4]\n [3 2 1]]\n",
          "output_type": "stream"
        }
      ],
      "execution_count": 17
    },
    {
      "cell_type": "markdown",
      "source": "Summary\n1D Array: Use slicing arr[::-1] to reverse the array.\n2D Array:\nAxis 0 (Rows): Use slicing arr[::-1, :] to reverse the rows.\nAxis 1 (Columns): Use slicing arr[:, ::-1] to reverse the columns.\nBoth Axes: Use slicing arr[::-1, ::-1] to reverse both rows and columns.\nThese methods provide a flexible way to manipulate arrays along different dimensions, making it easier to perform various data transformations.",
      "metadata": {}
    },
    {
      "cell_type": "code",
      "source": "",
      "metadata": {
        "trusted": true
      },
      "outputs": [],
      "execution_count": null
    },
    {
      "cell_type": "markdown",
      "source": "4)How can you determine the data type of elements in a NumPy array? Discuss the importance of data types \nin memory management and performance.",
      "metadata": {}
    },
    {
      "cell_type": "markdown",
      "source": "ANS:Determining the data type of elements in a NumPy array is a fundamental aspect of working with NumPy. The data type of the elements in an array affects how data is stored in memory and how operations on the array are performed. Here’s how you can determine the data type and why it matters for memory management and performance.\n\nDetermining the Data Type\nTo determine the data type of the elements in a NumPy array, you can use the dtype attribute of the array. Here’s an example:",
      "metadata": {}
    },
    {
      "cell_type": "code",
      "source": "import numpy as np\n\n# Create a NumPy array\narr = np.array([1, 2, 3, 4, 5])\n\n# Determine the data type of the elements\ndata_type = arr.dtype\nprint(\"Data type of array elements:\", data_type)",
      "metadata": {
        "trusted": true
      },
      "outputs": [
        {
          "name": "stdout",
          "text": "Data type of array elements: int32\n",
          "output_type": "stream"
        }
      ],
      "execution_count": 19
    },
    {
      "cell_type": "markdown",
      "source": "Data Types in NumPy\nNumPy supports a wide variety of data types including:\n\n1)Integers: int8, int16, int32, int64, etc.\n2)Unsigned Integers: uint8, uint16, uint32, uint64, etc.\n3)Floating-Point Numbers: float16, float32, float64, etc.\n4)Complex Numbers: complex64, complex128, etc.\n5)Others: bool, str, object, etc.\n\nImportance of Data Types in Memory Management and Performance:\n1)memory Usage:\nDifferent data types require different amounts of memory. For example, int8 takes 1 byte, int32 takes 4 bytes, and int64 takes 8 bytes. Choosing a smaller data type can significantly reduce memory usage, which is crucial when working with large datasets.\nFloating-point numbers like float32 use less memory than float64. If high precision is not required, using float32 instead of float64 can save memory.\n\n2)Performance:\nComputational Speed: Operations on smaller data types are generally faster due to reduced computational load. For example, operations on int32 arrays are often faster than on int64 arrays because they involve less data to process.\nVectorization: NumPy operations are typically vectorized, meaning they operate on entire arrays at once. Using the appropriate data type ensures that these operations are efficient and leverage NumPy’s optimized routines.\nCompatibility and Precision:\n\n3)Precision Requirements: \nChoosing the right data type ensures that calculations maintain the necessary precision. For example, using float16 might introduce rounding errors due to its limited precision, which may be unacceptable in certain calculations.\nCompatibility: Some NumPy functions and operations expect specific data types. Using the wrong data type might result in errors or unintended behavior.\n\n4)Data Type Conversion:\nSometimes you may need to convert the data type of an array for specific operations or to optimize memory usage. You can do this using the astype method:",
      "metadata": {}
    },
    {
      "cell_type": "code",
      "source": "arr_float = arr.astype(np.float32)  # Convert array to float32",
      "metadata": {
        "trusted": true
      },
      "outputs": [],
      "execution_count": 21
    },
    {
      "cell_type": "code",
      "source": "#Example on memory usage \nimport numpy as np\nimport sys\n\narr_int32 = np.array([1, 2, 3, 4, 5], dtype=np.int32)\narr_int64 = np.array([1, 2, 3, 4, 5], dtype=np.int64)\n\nprint(\"Size of int32 array:\", arr_int32.nbytes, \"bytes\")\nprint(\"Size of int64 array:\", arr_int64.nbytes, \"bytes\")",
      "metadata": {
        "trusted": true
      },
      "outputs": [
        {
          "name": "stdout",
          "text": "Size of int32 array: 20 bytes\nSize of int64 array: 40 bytes\n",
          "output_type": "stream"
        }
      ],
      "execution_count": 22
    },
    {
      "cell_type": "code",
      "source": "#Example on performance\nimport numpy as np\nimport time\n\n# Define large arrays\narr_float32 = np.random.rand(1000000).astype(np.float32)\narr_float64 = np.random.rand(1000000).astype(np.float64)\n\n# Time operations\nstart_time = time.time()\nnp.mean(arr_float32)\nprint(\"Time with float32:\", time.time() - start_time)\n\nstart_time = time.time()\nnp.mean(arr_float64)\nprint(\"Time with float64:\", time.time() - start_time)",
      "metadata": {
        "trusted": true
      },
      "outputs": [
        {
          "name": "stdout",
          "text": "Time with float32: 0.0009999275207519531\nTime with float64: 0.0019998550415039062\n",
          "output_type": "stream"
        }
      ],
      "execution_count": 23
    },
    {
      "cell_type": "markdown",
      "source": "In summary, understanding and managing data types in NumPy is crucial for efficient memory usage and performance optimization. Choosing the appropriate data type can lead to significant improvements in both aspects, making your computations more efficient and scalable.",
      "metadata": {}
    },
    {
      "cell_type": "code",
      "source": "",
      "metadata": {
        "trusted": true
      },
      "outputs": [],
      "execution_count": null
    },
    {
      "cell_type": "markdown",
      "source": "5)Define ndarrays in NumPy and explain their key features. How do they differ from standard Python lists.",
      "metadata": {}
    },
    {
      "cell_type": "markdown",
      "source": "ANS:In NumPy, ndarray (short for \"n-dimensional array\") is the core data structure for handling numerical data. It is a powerful and flexible container for large datasets, providing numerous advantages over standard Python lists. Here’s a detailed overview of ndarray, its key features, and how it differs from Python lists.\n\nA)Definition of ndarray\nAn ndarray is a multidimensional, homogeneous array object that holds elements of the same data type. It provides efficient storage and manipulation of numerical data in a variety of dimensions (1D, 2D, 3D, and beyond).\n\nB)Key Features of ndarray\n1)Homogeneous Data Types:\nAll elements in an ndarray have the same data type, which ensures consistency and allows for efficient computations.\nYou can specify the data type using the dtype attribute, e.g., np.int32, np.float64.\n\n2)Multidimensional Arrays:\nndarray can be one-dimensional (1D), two-dimensional (2D), or n-dimensional (nD). This flexibility allows for handling complex datasets like matrices, tensors, and more.\nThe shape of an ndarray is described by a tuple of integers, representing the size along each dimension, e.g., (3, 4) for a 2D array with 3 rows and 4 columns.\n\n3)Efficient Storage and Computation:\nndarray uses contiguous memory blocks, which allows for efficient storage and computation. This layout optimizes performance for mathematical operations and slicing.\nOperations on ndarray are often vectorized, meaning they are applied to entire arrays at once, avoiding the need for explicit loops.\n\n4)Element-wise Operations:\nNumPy supports element-wise operations, which means operations are applied independently to each element of the array. For example, adding two arrays performs element-wise addition.\n\n5)Broadcasting:\nBroadcasting is a mechanism that allows NumPy to perform operations on arrays of different shapes. It automatically expands the smaller array to match the shape of the larger array for element-wise operations.\n\n6)Slicing and Indexing:\nndarray supports advanced slicing and indexing, including boolean indexing, integer indexing, and slicing with multiple dimensions.\nThis provides powerful ways to access and modify parts of the array.\n\n7)Mathematical Functions:\nNumPy provides a wide range of mathematical functions that can operate on entire arrays or on individual elements, including functions for linear algebra, statistics, and more.\n\n8)Memory Layout:\nArrays can have different memory layouts, such as row-major (C-style) or column-major (Fortran-style), which can affect performance in some cases.\n\nC)Differences Between ndarray and Standard Python Lists\n1)Data Type Homogeneity:\n\nndarray: All elements must be of the same data type.\nPython Lists: Can contain elements of different data types.\nPerformance:\n\nndarray: Provides efficient storage and computation due to its fixed-size data type and contiguous memory layout.\nPython Lists: Are less efficient for numerical operations, as they are dynamically typed and involve overhead for storing object references.\nMultidimensionality:\n\nndarray: Supports multidimensional arrays (2D, 3D, etc.) with operations across dimensions.\nPython Lists: Are inherently 1D. Multi-dimensional data structures require nested lists, which are less efficient and harder to manage.\nElement-wise Operations:\n\nndarray: Supports element-wise operations and vectorized computations.\nPython Lists: Do not natively support element-wise operations. You need to use explicit loops or list comprehensions.\nBroadcasting:\n\nndarray: Supports broadcasting for operations between arrays of different shapes.\nPython Lists: Do not support broadcasting. Operations require arrays or matrices of compatible shapes.\nSlicing and Indexing:\n\nndarray: Offers advanced slicing and indexing options, including multi-dimensional slicing.\nPython Lists: Provide basic slicing and indexing, but are limited to one dimension.",
      "metadata": {}
    },
    {
      "cell_type": "code",
      "source": "#example on ndarray\nimport numpy as np\n\n# Create a 2D NumPy array\narr = np.array([[1, 2, 3],\n                [4, 5, 6],\n                [7, 8, 9]])\n\n# Perform element-wise operation\nresult = arr * 2\n\nprint(\"Original array:\\n\", arr)\nprint(\"Resulting array:\\n\", result)",
      "metadata": {
        "trusted": true
      },
      "outputs": [
        {
          "name": "stdout",
          "text": "Original array:\n [[1 2 3]\n [4 5 6]\n [7 8 9]]\nResulting array:\n [[ 2  4  6]\n [ 8 10 12]\n [14 16 18]]\n",
          "output_type": "stream"
        }
      ],
      "execution_count": 24
    },
    {
      "cell_type": "code",
      "source": "#example on pythonlist\n# Create a 2D Python list\nlist_2d = [[1, 2, 3],\n           [4, 5, 6],\n           [7, 8, 9]]\n\n# Attempt element-wise operation\nresult_list = [[element * 2 for element in row] for row in list_2d]\n\nprint(\"Original list:\\n\", list_2d)\nprint(\"Resulting list:\\n\", result_list)",
      "metadata": {
        "trusted": true
      },
      "outputs": [
        {
          "name": "stdout",
          "text": "Original list:\n [[1, 2, 3], [4, 5, 6], [7, 8, 9]]\nResulting list:\n [[2, 4, 6], [8, 10, 12], [14, 16, 18]]\n",
          "output_type": "stream"
        }
      ],
      "execution_count": 25
    },
    {
      "cell_type": "markdown",
      "source": "In summary, ndarray provides a more powerful and efficient way to handle numerical data compared to standard Python lists. It offers features like homogeneous data types, multidimensional support, element-wise operations, and advanced indexing, which are essential for numerical computing and data analysis tasks.",
      "metadata": {}
    },
    {
      "cell_type": "code",
      "source": "",
      "metadata": {
        "trusted": true
      },
      "outputs": [],
      "execution_count": null
    },
    {
      "cell_type": "markdown",
      "source": "6)Analyze the performance benefits of NumPy arrays over Python lists for large-scale numerical operations.",
      "metadata": {}
    },
    {
      "cell_type": "markdown",
      "source": "ANS:\nWhen it comes to large-scale numerical operations, NumPy arrays offer significant performance benefits over standard Python lists. These benefits stem from several key aspects of NumPy's design and implementation. Here’s an analysis of the performance advantages:\n\n1. Efficient Memory Layout\nContiguous Memory Allocation: NumPy arrays are stored in contiguous memory blocks. This allows for efficient access patterns and better cache utilization during computation. When elements are stored sequentially, accessing them in a loop or performing operations on them is faster because the CPU can prefetch and cache data effectively.\nFixed Data Type: All elements in a NumPy array are of the same data type, which enables optimized memory usage. Python lists, on the other hand, are arrays of pointers to objects, and each element can be of a different type. This adds overhead for storing type information and object references.\n\n2. Vectorized Operations\nElement-wise Computation: NumPy performs operations element-wise using highly optimized C and Fortran libraries. This means operations like addition, multiplication, or mathematical functions are applied simultaneously to all elements of the array without the need for explicit Python loops.\nReduced Overhead: NumPy’s vectorized operations bypass the overhead of Python’s dynamic type checking and method dispatch. Instead, the operations are executed in compiled code, which is significantly faster.\n\n3. Broadcasting\nEfficient Computations with Different Shapes: Broadcasting allows NumPy to perform arithmetic operations on arrays of different shapes by automatically expanding the smaller array to match the shape of the larger one. This avoids the need for manual replication of data and reduces memory usage and computational overhead.\nAvoiding Loops: With broadcasting, you can avoid writing explicit loops for element-wise operations across different shapes. This reduces the amount of Python code and leverages optimized internal implementations.\n\n4. Optimized Mathematical Libraries\nLow-Level Libraries: NumPy relies on highly optimized libraries like BLAS (Basic Linear Algebra Subprograms) and LAPACK (Linear Algebra PACKage) for complex numerical operations such as matrix multiplication and solving linear systems. These libraries are implemented in low-level languages like C and Fortran, providing substantial performance improvements.\nParallelization: Some of these libraries can take advantage of multi-core processors, further accelerating computations.\n\n5. Memory Efficiency\nCompact Storage: NumPy arrays use a fixed-size data type for all elements, which reduces memory overhead compared to Python lists, where each element is a separate object with its own metadata.\nReduction in Memory Fragmentation: Contiguous memory allocation in NumPy arrays reduces memory fragmentation and improves cache locality, which enhances performance for large datasets.\n\n6. Advanced Indexing and Slicing\nEfficient Indexing: NumPy provides efficient indexing and slicing operations that are executed at the compiled level. These operations are faster compared to equivalent operations on Python lists, which involve additional Python overhead.\nBoolean Indexing and Advanced Features: NumPy supports boolean indexing, fancy indexing, and other advanced features that allow for efficient data manipulation and querying.\n\nPerformance Comparison Example\nTo illustrate the performance benefits, consider the following example where we compare element-wise addition using NumPy arrays and Python lists:",
      "metadata": {}
    },
    {
      "cell_type": "code",
      "source": "#ex NumPy\nimport numpy as np\nimport time\n\n# Create large NumPy arrays\narr1 = np.random.rand(1000000)\narr2 = np.random.rand(1000000)\n\n# Measure time for element-wise addition\nstart_time = time.time()\nresult = arr1 + arr2\nend_time = time.time()\n\nprint(\"NumPy time:\", end_time - start_time)",
      "metadata": {
        "trusted": true
      },
      "outputs": [
        {
          "name": "stdout",
          "text": "NumPy time: 0.006000041961669922\n",
          "output_type": "stream"
        }
      ],
      "execution_count": 26
    },
    {
      "cell_type": "code",
      "source": "#ex Python List\nimport time\n\n# Create large Python lists\nlist1 = list(np.random.rand(1000000))\nlist2 = list(np.random.rand(1000000))\n\n# Measure time for element-wise addition\nstart_time = time.time()\nresult = [x + y for x, y in zip(list1, list2)]\nend_time = time.time()\n\nprint(\"Python list time:\", end_time - start_time)",
      "metadata": {
        "trusted": true
      },
      "outputs": [
        {
          "name": "stdout",
          "text": "Python list time: 0.13499999046325684\n",
          "output_type": "stream"
        }
      ],
      "execution_count": 27
    },
    {
      "cell_type": "markdown",
      "source": "Results and Interpretation\nNumPy: The operation on NumPy arrays will typically be an order of magnitude faster than the operation on Python lists. This is because the NumPy implementation is optimized and leverages low-level operations that are much faster than Python’s dynamic type handling and list comprehensions.\nPython Lists: The list comprehension method involves looping through Python objects, which adds significant overhead due to Python’s dynamic type checking and object management.\n\nSummary\nNumPy arrays provide substantial performance benefits over Python lists for large-scale numerical operations due to their efficient memory layout, vectorized operations, broadcasting capabilities, optimized mathematical libraries, memory efficiency, and advanced indexing. These features make NumPy the preferred choice for numerical computing tasks where performance and scalability are critical.",
      "metadata": {}
    },
    {
      "cell_type": "code",
      "source": "",
      "metadata": {
        "trusted": true
      },
      "outputs": [],
      "execution_count": null
    },
    {
      "cell_type": "markdown",
      "source": "7) Compare vstack() and hstack() functions in NumPy. Provide examples demonstrating their usage and \noutput",
      "metadata": {}
    },
    {
      "cell_type": "markdown",
      "source": "ANS:In NumPy, vstack() and hstack() are functions used to stack arrays along different axes, allowing you to combine arrays either vertically or horizontally. Here’s a detailed comparison of these functions, along with examples demonstrating their usage:\n\n1)numpy.vstack()\nPurpose: Stacks arrays vertically (row-wise). It combines arrays by adding rows on top of each other.\nAxis: The arrays are concatenated along the vertical axis (axis 0).\n\nSyntax:\nnumpy.vstack(tup)\n\ntup: A sequence of arrays to be stacked. All arrays must have the same number of columns (i.e., the same number of columns).",
      "metadata": {}
    },
    {
      "cell_type": "code",
      "source": "#ex\nimport numpy as np\n\n# Create two 2D arrays\narr1 = np.array([[1, 2, 3],\n                 [4, 5, 6]])\n\narr2 = np.array([[7, 8, 9],\n                 [10, 11, 12]])\n\n# Stack arrays vertically\nresult_vstack = np.vstack((arr1, arr2))\n\nprint(\"Result of vstack:\")\nprint(result_vstack)",
      "metadata": {
        "trusted": true
      },
      "outputs": [
        {
          "name": "stdout",
          "text": "Result of vstack:\n[[ 1  2  3]\n [ 4  5  6]\n [ 7  8  9]\n [10 11 12]]\n",
          "output_type": "stream"
        }
      ],
      "execution_count": 28
    },
    {
      "cell_type": "code",
      "source": "2)numpy.hstack()\nPurpose: Stacks arrays horizontally (column-wise). It combines arrays by adding columns side by side.\nAxis: The arrays are concatenated along the horizontal axis (axis 1).\n\nSyntax:\nnumpy.hstack(tup)\n\ntup: A sequence of arrays to be stacked. All arrays must have the same number of rows (i.e., the same number of rows).",
      "metadata": {
        "trusted": true
      },
      "outputs": [],
      "execution_count": null
    },
    {
      "cell_type": "code",
      "source": "#ex\nimport numpy as np\n\n# Create two 2D arrays\narr1 = np.array([[1, 2, 3],\n                 [4, 5, 6]])\n\narr2 = np.array([[7, 8],\n                 [9, 10]])\n\n# Stack arrays horizontally\nresult_hstack = np.hstack((arr1, arr2))\n\nprint(\"Result of hstack:\")\nprint(result_hstack)",
      "metadata": {
        "trusted": true
      },
      "outputs": [
        {
          "name": "stdout",
          "text": "Result of hstack:\n[[ 1  2  3  7  8]\n [ 4  5  6  9 10]]\n",
          "output_type": "stream"
        }
      ],
      "execution_count": 29
    },
    {
      "cell_type": "markdown",
      "source": "Summary of Differences\n1)Stacking Direction:\n\nvstack(): Stacks arrays vertically, adding rows from the second array below the first.\nhstack(): Stacks arrays horizontally, adding columns from the second array to the right of the first.\n\n2)Requirement:\n\nvstack(): Requires that the arrays have the same number of columns.\nhstack(): Requires that the arrays have the same number of rows.\n\n3)Output Shape:\n\nvstack(): The number of rows in the output is the sum of the rows in the input arrays. The number of columns remains the same.\nhstack(): The number of columns in the output is the sum of the columns in the input arrays. The number of rows remains the same.\n\nThese stacking functions are powerful tools for combining arrays in NumPy, enabling flexible data manipulation and preparation for further analysis or computation.",
      "metadata": {}
    },
    {
      "cell_type": "code",
      "source": "",
      "metadata": {
        "trusted": true
      },
      "outputs": [],
      "execution_count": null
    },
    {
      "cell_type": "markdown",
      "source": "8) Explain the differences between fliplr() and flipud() methods in NumPy, including their effects on various \narray dimensions.",
      "metadata": {}
    },
    {
      "cell_type": "markdown",
      "source": "ANS:In NumPy, the fliplr() and flipud() functions are used to reverse the order of elements in an array along different axes. Here’s a detailed explanation of the differences between these methods and their effects on various array dimensions:\n\n1)numpy.fliplr()\nPurpose: Reverses the order of elements in an array along the left-right axis (axis 1). This function is short for \"flip left-right.\"\nEffect on 2D Arrays: It reverses the elements of each row, effectively flipping the array horizontally.\nSyntax:\nnumpy.fliplr(m)\n\nm: The input array. It must be at least 2-dimensional.",
      "metadata": {}
    },
    {
      "cell_type": "code",
      "source": "#ex with 2D array\nimport numpy as np\n\n# Create a 2D array\narr = np.array([[1, 2, 3],\n                [4, 5, 6],\n                [7, 8, 9]])\n\n# Flip array left-right\nflipped_lr = np.fliplr(arr)\n\nprint(\"Original array:\\n\", arr)\nprint(\"Flipped left-right:\\n\", flipped_lr)",
      "metadata": {
        "trusted": true
      },
      "outputs": [
        {
          "name": "stdout",
          "text": "Original array:\n [[1 2 3]\n [4 5 6]\n [7 8 9]]\nFlipped left-right:\n [[3 2 1]\n [6 5 4]\n [9 8 7]]\n",
          "output_type": "stream"
        }
      ],
      "execution_count": 30
    },
    {
      "cell_type": "markdown",
      "source": "2)numpy.flipud()\nPurpose: Reverses the order of elements in an array along the up-down axis (axis 0). This function is short for \"flip up-down.\"\nEffect on 2D Arrays: It reverses the order of rows, effectively flipping the array vertically.\nSyntax:\nnumpy.flipud(m)\n\nm: The input array. It must be at least 2-dimensional.",
      "metadata": {}
    },
    {
      "cell_type": "code",
      "source": "#ex on 2D array\nimport numpy as np\n\n# Create a 2D array\narr = np.array([[1, 2, 3],\n                [4, 5, 6],\n                [7, 8, 9]])\n\n# Flip array up-down\nflipped_ud = np.flipud(arr)\n\nprint(\"Original array:\\n\", arr)\nprint(\"Flipped up-down:\\n\", flipped_ud)",
      "metadata": {
        "trusted": true
      },
      "outputs": [
        {
          "name": "stdout",
          "text": "Original array:\n [[1 2 3]\n [4 5 6]\n [7 8 9]]\nFlipped up-down:\n [[7 8 9]\n [4 5 6]\n [1 2 3]]\n",
          "output_type": "stream"
        }
      ],
      "execution_count": 31
    },
    {
      "cell_type": "markdown",
      "source": "Differences Between fliplr() and flipud()\n1)Axis of Operation:\nfliplr(): Operates along the horizontal axis (axis 1), reversing the order of elements in each row.\nflipud(): Operates along the vertical axis (axis 0), reversing the order of rows.\n\n2)Effect on Array Dimensions:\na)2D Arrays:\nfliplr(): Flips the array horizontally. Each row is reversed, but the order of rows remains unchanged.\nflipud(): Flips the array vertically. The order of rows is reversed, but the contents of each row remain unchanged.\n\n3)1D Arrays:\nBoth functions are not directly applicable to 1D arrays. For 1D arrays, you would use np.flip() to reverse the array in either direction.\n\n4)3D Arrays and Higher:\na)For multi-dimensional arrays, fliplr() and flipud() can be used if the array is at least 2-dimensional, but their effect will depend on the specific axis:\nfliplr(): Flips along the second axis (axis 1), affecting each 2D slice in the higher-dimensional array.\nflipud(): Flips along the first axis (axis 0), affecting each 2D slice in the higher-dimensional array.",
      "metadata": {}
    },
    {
      "cell_type": "code",
      "source": "#ex with 3D array\nimport numpy as np\n\n# Create a 3D array\narr_3d = np.array([[[1, 2, 3],\n                    [4, 5, 6],\n                    [7, 8, 9]],\n                   \n                   [[10, 11, 12],\n                    [13, 14, 15],\n                    [16, 17, 18]]])\n\n# Flip along axis 1 (left-right) for each 2D slice\nflipped_lr_3d = np.fliplr(arr_3d)\n\n# Flip along axis 0 (up-down) for the 3D array\nflipped_ud_3d = np.flipud(arr_3d)\n\nprint(\"Original 3D array:\\n\", arr_3d)\nprint(\"Flipped left-right (3D):\\n\", flipped_lr_3d)\nprint(\"Flipped up-down (3D):\\n\", flipped_ud_3d)",
      "metadata": {
        "trusted": true
      },
      "outputs": [
        {
          "name": "stdout",
          "text": "Original 3D array:\n [[[ 1  2  3]\n  [ 4  5  6]\n  [ 7  8  9]]\n\n [[10 11 12]\n  [13 14 15]\n  [16 17 18]]]\nFlipped left-right (3D):\n [[[ 7  8  9]\n  [ 4  5  6]\n  [ 1  2  3]]\n\n [[16 17 18]\n  [13 14 15]\n  [10 11 12]]]\nFlipped up-down (3D):\n [[[10 11 12]\n  [13 14 15]\n  [16 17 18]]\n\n [[ 1  2  3]\n  [ 4  5  6]\n  [ 7  8  9]]]\n",
          "output_type": "stream"
        }
      ],
      "execution_count": 32
    },
    {
      "cell_type": "markdown",
      "source": "In summary:\nfliplr(): Reverses the order of elements within each row (left-to-right).\nflipud(): Reverses the order of rows (top-to-bottom).\nThese functions are especially useful for image processing, data manipulation, and various numerical tasks where specific reordering of data is required.",
      "metadata": {}
    },
    {
      "cell_type": "code",
      "source": "",
      "metadata": {
        "trusted": true
      },
      "outputs": [],
      "execution_count": null
    },
    {
      "cell_type": "code",
      "source": "9) Discuss the functionality of the array_split() method in NumPy. How does it handle uneven splits.",
      "metadata": {
        "trusted": true
      },
      "outputs": [],
      "execution_count": null
    },
    {
      "cell_type": "markdown",
      "source": "ANS:The array_split() method in NumPy is a versatile function for splitting an array into multiple sub-arrays. This function is useful for dividing data into chunks for processing or analysis. Here’s a detailed look at its functionality and how it handles uneven splits:\n\na)numpy.array_split()\nPurpose: To split an array into multiple sub-arrays along a specified axis.\nSyntax:\nnumpy.array_split(ary, indices_or_sections, axis=0)\n\nary: The input array to be split.\nindices_or_sections: If an integer is provided, it specifies the number of equal-sized sub-arrays to create. If a sequence of indices is provided, it specifies the points at which to split the array.\naxis: The axis along which to split the array. The default is 0.\n\nHandling Uneven Splits\nWhen splitting an array into an unequal number of sub-arrays (i.e., the size of the array is not evenly divisible by the number of sections), array_split() handles this gracefully:\n\n1)Integer as indices_or_sections:\nIf the array cannot be evenly divided, array_split() will create sub-arrays of different sizes. The result will be a list of sub-arrays where the first few sub-arrays are larger if there are remainders.\nFor example, if you split an array of size 10 into 3 parts, you will get two sub-arrays of size 4 and one of size 2.\n\n2)Sequence of Indices as indices_or_sections:\nIf you specify a sequence of indices, array_split() will split the array at those indices. If the indices do not evenly divide the array, the last sub-array might be smaller or larger, depending on how the indices are specified.",
      "metadata": {}
    },
    {
      "cell_type": "code",
      "source": "#ex1: splitting with an integer\nimport numpy as np\n\n# Create an array\narr = np.arange(10)  # Array: [0, 1, 2, 3, 4, 5, 6, 7, 8, 9]\n\n# Split the array into 3 parts\nsplit_arr = np.array_split(arr, 3)\n\nprint(\"Split array (integer split):\")\nfor sub_array in split_arr:\n    print(sub_array)",
      "metadata": {
        "trusted": true
      },
      "outputs": [
        {
          "name": "stdout",
          "text": "Split array (integer split):\n[0 1 2 3]\n[4 5 6]\n[7 8 9]\n",
          "output_type": "stream"
        }
      ],
      "execution_count": 33
    },
    {
      "cell_type": "code",
      "source": "#ex2: splitting with sequence of indices\nimport numpy as np\n\n# Create an array\narr = np.arange(10)  # Array: [0, 1, 2, 3, 4, 5, 6, 7, 8, 9]\n\n# Split the array at specific indices\nsplit_arr = np.array_split(arr, [3, 7])\n\nprint(\"Split array (indices split):\")\nfor sub_array in split_arr:\n    print(sub_array)",
      "metadata": {
        "trusted": true
      },
      "outputs": [
        {
          "name": "stdout",
          "text": "Split array (indices split):\n[0 1 2]\n[3 4 5 6]\n[7 8 9]\n",
          "output_type": "stream"
        }
      ],
      "execution_count": 34
    },
    {
      "cell_type": "markdown",
      "source": "Summary\n1)array_split() is useful for dividing an array into multiple sub-arrays along a specified axis.\n2)When splitting into an integer number of sections, the resulting sub-arrays may have uneven sizes if the array size is not perfectly divisible.\n3)When splitting using a sequence of indices, the array is divided at the specified indices, and the resulting sub-arrays may vary in size based on the indices provided.\n\narray_split() is more flexible than split() or hsplit() and vsplit(), as it allows for non-uniform splits, making it suitable for various data processing tasks where equal-sized chunks are not always necessary.",
      "metadata": {}
    },
    {
      "cell_type": "code",
      "source": "",
      "metadata": {
        "trusted": true
      },
      "outputs": [],
      "execution_count": null
    },
    {
      "cell_type": "code",
      "source": "10)Explain the concepts of vectorization and broadcasting in NumPy. How do they contribute to efficient array \noperations",
      "metadata": {
        "trusted": true
      },
      "outputs": [],
      "execution_count": null
    },
    {
      "cell_type": "markdown",
      "source": "ANS:Vectorization and broadcasting are two key concepts in NumPy that significantly enhance the efficiency and performance of array operations. Here’s an explanation of both concepts and how they contribute to efficient array operations:\n\nA)Vectorization\nVectorization is a technique in NumPy that allows for operations to be performed on entire arrays rather than on individual elements. This is achieved by utilizing NumPy’s underlying C and Fortran libraries, which implement operations in compiled code. As a result, operations are executed much faster than equivalent operations implemented with explicit Python loops.\n\nKey Points\n1)Element-wise Operations: Vectorization enables element-wise operations on arrays. For instance, adding two arrays together performs addition on each corresponding element simultaneously.\n\n2)Avoiding Python Loops: By avoiding explicit Python loops, vectorization reduces the overhead associated with Python’s dynamic typing and interpreter. Instead, operations are handled by optimized, low-level implementations.\n\n3)Improved Performance: Vectorized operations are typically several orders of magnitude faster than their Python loop counterparts due to the optimized implementation in compiled code.",
      "metadata": {}
    },
    {
      "cell_type": "code",
      "source": "#example on vectorisation\nimport numpy as np\n\n# Create two large NumPy arrays\narr1 = np.random.rand(1000000)\narr2 = np.random.rand(1000000)\n\n# Vectorized addition\nresult = arr1 + arr2",
      "metadata": {
        "trusted": true
      },
      "outputs": [],
      "execution_count": 36
    },
    {
      "cell_type": "markdown",
      "source": "In this example, arr1 + arr2 is computed in a vectorized manner, where each element of arr1 is added to the corresponding element of arr2 without explicit looping.\n",
      "metadata": {}
    },
    {
      "cell_type": "markdown",
      "source": "B)Broadcasting\nBroadcasting is a mechanism that allows NumPy to perform operations on arrays of different shapes in a way that makes sense, without needing to manually align the shapes of the arrays. It automatically expands the smaller array to match the shape of the larger array, making it possible to perform element-wise operations even when the arrays have different dimensions.\n\nKey Points\n1)Rules for Broadcasting: Broadcasting follows specific rules to determine if two arrays can be broadcast together:\n\na)If the arrays have different numbers of dimensions, the shape of the smaller array is padded with ones on the left.\nb)Two dimensions are compatible when:\n They are equal, or\n One of them is 1\nIf these conditions are not met, broadcasting fails.\n\n2)Automatic Expansion: Broadcasting automatically expands the dimensions of the smaller array to match the dimensions of the larger array. This avoids the need to manually replicate data and reduces memory usage.\n\n3)Efficient Computation: By using broadcasting, NumPy can avoid creating large intermediate arrays, which helps save memory and computational resources.",
      "metadata": {}
    },
    {
      "cell_type": "code",
      "source": "#Example of Broadcasting\nimport numpy as np\n\n# Create a 2D array and a 1D array\narr2d = np.array([[1, 2, 3],\n                  [4, 5, 6]])\n\narr1d = np.array([10, 20, 30])\n\n# Broadcasting: add 1D array to each row of the 2D array\nresult = arr2d + arr1d\n\nprint(\"Original 2D array:\\n\", arr2d)\nprint(\"1D array:\\n\", arr1d)\nprint(\"Result after broadcasting:\\n\", result)",
      "metadata": {
        "trusted": true
      },
      "outputs": [
        {
          "name": "stdout",
          "text": "Original 2D array:\n [[1 2 3]\n [4 5 6]]\n1D array:\n [10 20 30]\nResult after broadcasting:\n [[11 22 33]\n [14 25 36]]\n",
          "output_type": "stream"
        }
      ],
      "execution_count": 37
    },
    {
      "cell_type": "markdown",
      "source": "In this example, the 1D array arr1d is broadcasted to match the shape of the 2D array arr2d, and the addition is performed element-wise.",
      "metadata": {}
    },
    {
      "cell_type": "markdown",
      "source": "Contribution to Efficient Array Operations\n1)Speed and Performance:\n\nVectorization: By executing operations in compiled code rather than Python loops, vectorization significantly speeds up computations. This is especially important for large-scale data processing tasks.\n\nBroadcasting: Broadcasting allows for efficient operations on arrays of different shapes without requiring explicit data replication. This reduces both memory usage and computational overhead.\n\n2)Code Simplicity:\n\nVectorization: Simplifies code by eliminating the need for manual loops and conditionals, leading to more concise and readable code.\n\nBroadcasting: Simplifies the handling of operations involving arrays of different shapes, avoiding the need for complex manipulation or alignment of array dimensions.\n\n3)Memory Efficiency:\n\nVectorization: Uses memory more efficiently by performing operations in a vectorized manner rather than creating large intermediate arrays.\n\nBroadcasting: Avoids creating multiple copies of arrays by automatically aligning shapes, leading to more memory-efficient computations.\n\nIn summary, vectorization and broadcasting are powerful features in NumPy that enhance computational efficiency and performance. They enable fast, memory-efficient operations on large arrays and simplify code by leveraging optimized low-level implementations and automatic handling of array shapes.",
      "metadata": {}
    },
    {
      "cell_type": "code",
      "source": "",
      "metadata": {
        "trusted": true
      },
      "outputs": [],
      "execution_count": null
    },
    {
      "cell_type": "markdown",
      "source": "Practical questions:",
      "metadata": {}
    },
    {
      "cell_type": "markdown",
      "source": "1)Create a 3x3 NumPy array with random integers between 1 and 100. Then, interchange its rows and columns",
      "metadata": {}
    },
    {
      "cell_type": "code",
      "source": "import numpy as np\n\n# Step 1: Create a 3x3 NumPy array with random integers between 1 and 100\narray = np.random.randint(1, 101, size=(3, 3))\n\nprint(\"Original array:\")\nprint(array)\n\n# Step 2: Interchange rows and columns (transpose the array)\ntransposed_array = array.T\n\nprint(\"\\nTransposed array:\")\nprint(transposed_array)",
      "metadata": {
        "trusted": true
      },
      "outputs": [
        {
          "name": "stdout",
          "text": "Original array:\n[[33 22 90]\n [59  7 65]\n [ 8 57  6]]\n\nTransposed array:\n[[33 59  8]\n [22  7 57]\n [90 65  6]]\n",
          "output_type": "stream"
        }
      ],
      "execution_count": 38
    },
    {
      "cell_type": "code",
      "source": "",
      "metadata": {
        "trusted": true
      },
      "outputs": [],
      "execution_count": null
    },
    {
      "cell_type": "code",
      "source": "2) Generate a 1D NumPy array with 10 elements. Reshape it into a 2x5 array, then into a 5x2 array",
      "metadata": {
        "trusted": true
      },
      "outputs": [],
      "execution_count": null
    },
    {
      "cell_type": "code",
      "source": "import numpy as np\n\n# Step 1: Generate a 1D NumPy array with 10 elements\narray_1d = np.arange(10)  # You can also use np.random.randint if you prefer random values\n\nprint(\"Original 1D array:\")\nprint(array_1d)\n\n# Step 2: Reshape it into a 2x5 array\narray_2x5 = array_1d.reshape(2, 5)\n\nprint(\"\\nReshaped into 2x5 array:\")\nprint(array_2x5)\n\n# Step 3: Reshape it into a 5x2 array\narray_5x2 = array_1d.reshape(5, 2)\n\nprint(\"\\nReshaped into 5x2 array:\")\nprint(array_5x2)",
      "metadata": {
        "trusted": true
      },
      "outputs": [
        {
          "name": "stdout",
          "text": "Original 1D array:\n[0 1 2 3 4 5 6 7 8 9]\n\nReshaped into 2x5 array:\n[[0 1 2 3 4]\n [5 6 7 8 9]]\n\nReshaped into 5x2 array:\n[[0 1]\n [2 3]\n [4 5]\n [6 7]\n [8 9]]\n",
          "output_type": "stream"
        }
      ],
      "execution_count": 39
    },
    {
      "cell_type": "code",
      "source": "",
      "metadata": {
        "trusted": true
      },
      "outputs": [],
      "execution_count": null
    },
    {
      "cell_type": "code",
      "source": "3)Create a 4x4 NumPy array with random float values. Add a border of zeros around it, resulting in a 6x6 array.",
      "metadata": {
        "trusted": true
      },
      "outputs": [],
      "execution_count": null
    },
    {
      "cell_type": "code",
      "source": "import numpy as np\n\n# Step 1: Create a 4x4 NumPy array with random float values\narray_4x4 = np.random.rand(4, 4)\n\nprint(\"Original 4x4 array with random float values:\")\nprint(array_4x4)\n\n# Step 2: Add a border of zeros around it to get a 6x6 array\n# `pad_width` specifies the number of rows/columns of padding to add on each side\narray_6x6 = np.pad(array_4x4, pad_width=1, mode='constant', constant_values=0)\n\nprint(\"\\n6x6 array with a border of zeros:\")\nprint(array_6x6)",
      "metadata": {
        "trusted": true
      },
      "outputs": [
        {
          "name": "stdout",
          "text": "Original 4x4 array with random float values:\n[[0.90838819 0.41991388 0.81336936 0.10992065]\n [0.60340432 0.97837021 0.20563803 0.36210889]\n [0.86397803 0.30177374 0.77773184 0.39507   ]\n [0.3687975  0.91965616 0.16812687 0.33261272]]\n\n6x6 array with a border of zeros:\n[[0.         0.         0.         0.         0.         0.        ]\n [0.         0.90838819 0.41991388 0.81336936 0.10992065 0.        ]\n [0.         0.60340432 0.97837021 0.20563803 0.36210889 0.        ]\n [0.         0.86397803 0.30177374 0.77773184 0.39507    0.        ]\n [0.         0.3687975  0.91965616 0.16812687 0.33261272 0.        ]\n [0.         0.         0.         0.         0.         0.        ]]\n",
          "output_type": "stream"
        }
      ],
      "execution_count": 40
    },
    {
      "cell_type": "code",
      "source": "",
      "metadata": {
        "trusted": true
      },
      "outputs": [],
      "execution_count": null
    },
    {
      "cell_type": "markdown",
      "source": "4)Using NumPy, create an array of integers from 10 to 60 with a step of 5",
      "metadata": {}
    },
    {
      "cell_type": "code",
      "source": "import numpy as np\n\n# Create an array of integers from 10 to 60 with a step of 5\narray = np.arange(10, 65, 5)\n\nprint(\"Array from 10 to 60 with a step of 5:\")\nprint(array)",
      "metadata": {
        "trusted": true
      },
      "outputs": [
        {
          "name": "stdout",
          "text": "Array from 10 to 60 with a step of 5:\n[10 15 20 25 30 35 40 45 50 55 60]\n",
          "output_type": "stream"
        }
      ],
      "execution_count": 41
    },
    {
      "cell_type": "code",
      "source": "",
      "metadata": {
        "trusted": true
      },
      "outputs": [],
      "execution_count": null
    },
    {
      "cell_type": "markdown",
      "source": "5)Create a NumPy array of strings ['python', 'numpy', 'pandas']. Apply different case transformations \n(uppercase, lowercase, title case, etc.) to each element",
      "metadata": {}
    },
    {
      "cell_type": "code",
      "source": "import numpy as np\n\n# Step 1: Create a NumPy array of strings\narray = np.array(['python', 'numpy', 'pandas'])\n\n# Step 2: Apply different case transformations to each element\nuppercase_array = np.char.upper(array)\nlowercase_array = np.char.lower(array)\ntitlecase_array = np.char.title(array)\ncapitalize_array = np.char.capitalize(array)\n\n# Print the results\nprint(\"Original array:\")\nprint(array)\n\nprint(\"\\nUppercase transformation:\")\nprint(uppercase_array)\n\nprint(\"\\nLowercase transformation:\")\nprint(lowercase_array)\n\nprint(\"\\nTitlecase transformation:\")\nprint(titlecase_array)\n\nprint(\"\\nCapitalize transformation:\")\nprint(capitalize_array)",
      "metadata": {
        "trusted": true
      },
      "outputs": [
        {
          "name": "stdout",
          "text": "Original array:\n['python' 'numpy' 'pandas']\n\nUppercase transformation:\n['PYTHON' 'NUMPY' 'PANDAS']\n\nLowercase transformation:\n['python' 'numpy' 'pandas']\n\nTitlecase transformation:\n['Python' 'Numpy' 'Pandas']\n\nCapitalize transformation:\n['Python' 'Numpy' 'Pandas']\n",
          "output_type": "stream"
        }
      ],
      "execution_count": 42
    },
    {
      "cell_type": "code",
      "source": "",
      "metadata": {
        "trusted": true
      },
      "outputs": [],
      "execution_count": null
    },
    {
      "cell_type": "markdown",
      "source": "6)Generate a NumPy array of words. Insert a space between each character of every word in the array",
      "metadata": {}
    },
    {
      "cell_type": "code",
      "source": "import numpy as np\n\n# Step 1: Create a NumPy array of words\nwords_array = np.array(['python', 'numpy', 'pandas'])\n\n# Step 2: Insert a space between each character of every word in the array\n# Use np.char.join to insert spaces between characters\nspaced_words_array = np.char.join(' ', words_array)\n\n# Print the result\nprint(\"Original array:\")\nprint(words_array)\n\nprint(\"\\nArray with spaces between each character:\")\nprint(spaced_words_array)",
      "metadata": {
        "trusted": true
      },
      "outputs": [
        {
          "name": "stdout",
          "text": "Original array:\n['python' 'numpy' 'pandas']\n\nArray with spaces between each character:\n['p y t h o n' 'n u m p y' 'p a n d a s']\n",
          "output_type": "stream"
        }
      ],
      "execution_count": 44
    },
    {
      "cell_type": "code",
      "source": "",
      "metadata": {
        "trusted": true
      },
      "outputs": [],
      "execution_count": null
    },
    {
      "cell_type": "markdown",
      "source": "7)Create two 2D NumPy arrays and perform element-wise addition, subtraction, multiplication, and division",
      "metadata": {}
    },
    {
      "cell_type": "code",
      "source": "import numpy as np\n\n# Step 1: Create two 2D NumPy arrays\narray1 = np.array([[1, 2, 3], [4, 5, 6]])\narray2 = np.array([[7, 8, 9], [10, 11, 12]])\n\n# Step 2: Perform element-wise addition\naddition_result = array1 + array2\n\n# Step 3: Perform element-wise subtraction\nsubtraction_result = array1 - array2\n\n# Step 4: Perform element-wise multiplication\nmultiplication_result = array1 * array2\n\n# Step 5: Perform element-wise division\n# To avoid division by zero, ensure no zeros in array2\ndivision_result = array1 / array2\n\n# Print the results\nprint(\"Array 1:\")\nprint(array1)\n\nprint(\"\\nArray 2:\")\nprint(array2)\n\nprint(\"\\nElement-wise addition:\")\nprint(addition_result)\n\nprint(\"\\nElement-wise subtraction:\")\nprint(subtraction_result)\n\nprint(\"\\nElement-wise multiplication:\")\nprint(multiplication_result)\n\nprint(\"\\nElement-wise division:\")\nprint(division_result)",
      "metadata": {
        "trusted": true
      },
      "outputs": [
        {
          "name": "stdout",
          "text": "Array 1:\n[[1 2 3]\n [4 5 6]]\n\nArray 2:\n[[ 7  8  9]\n [10 11 12]]\n\nElement-wise addition:\n[[ 8 10 12]\n [14 16 18]]\n\nElement-wise subtraction:\n[[-6 -6 -6]\n [-6 -6 -6]]\n\nElement-wise multiplication:\n[[ 7 16 27]\n [40 55 72]]\n\nElement-wise division:\n[[0.14285714 0.25       0.33333333]\n [0.4        0.45454545 0.5       ]]\n",
          "output_type": "stream"
        }
      ],
      "execution_count": 45
    },
    {
      "cell_type": "code",
      "source": "",
      "metadata": {
        "trusted": true
      },
      "outputs": [],
      "execution_count": null
    },
    {
      "cell_type": "markdown",
      "source": "8)Use NumPy to create a 5x5 identity matrix, then extract its diagonal elements",
      "metadata": {}
    },
    {
      "cell_type": "code",
      "source": "import numpy as np\n\n# Step 1: Create a 5x5 identity matrix\nidentity_matrix = np.eye(5)\n\nprint(\"5x5 Identity Matrix:\")\nprint(identity_matrix)\n\n# Step 2: Extract the diagonal elements\ndiagonal_elements = np.diag(identity_matrix)\n\nprint(\"\\nDiagonal elements:\")\nprint(diagonal_elements)",
      "metadata": {
        "trusted": true
      },
      "outputs": [
        {
          "name": "stdout",
          "text": "5x5 Identity Matrix:\n[[1. 0. 0. 0. 0.]\n [0. 1. 0. 0. 0.]\n [0. 0. 1. 0. 0.]\n [0. 0. 0. 1. 0.]\n [0. 0. 0. 0. 1.]]\n\nDiagonal elements:\n[1. 1. 1. 1. 1.]\n",
          "output_type": "stream"
        }
      ],
      "execution_count": 46
    },
    {
      "cell_type": "code",
      "source": "",
      "metadata": {
        "trusted": true
      },
      "outputs": [],
      "execution_count": null
    },
    {
      "cell_type": "markdown",
      "source": "9)Generate a NumPy array of 100 random integers between 0 and 1000. Find and display all prime numbers in \nthis array",
      "metadata": {}
    },
    {
      "cell_type": "code",
      "source": "import numpy as np\n\n# Step 1: Generate a NumPy array of 100 random integers between 0 and 1000\narray = np.random.randint(0, 1001, size=100)\n\n# Function to check if a number is prime\ndef is_prime(n):\n    \"\"\"Return True if n is a prime number, else False.\"\"\"\n    if n <= 1:\n        return False\n    if n <= 3:\n        return True\n    if n % 2 == 0 or n % 3 == 0:\n        return False\n    i = 5\n    while i * i <= n:\n        if n % i == 0 or n % (i + 2) == 0:\n            return False\n        i += 6\n    return True\n\n# Step 2: Find all prime numbers in the array\nprimes = np.array([num for num in array if is_prime(num)])\n\n# Print the results\nprint(\"Array of random integers:\")\nprint(array)\n\nprint(\"\\nPrime numbers in the array:\")\nprint(primes)",
      "metadata": {
        "trusted": true
      },
      "outputs": [
        {
          "name": "stdout",
          "text": "Array of random integers:\n[ 745  192  780  355  977  394  296  220  612  194  116  665  961  488\n  234  839  871  367  637   16  217  444  929  333  840  958  828  350\n  760  476  662  255  923  614  239  150  119  583  250  250  860  188\n  206  626  782  712  141    3  648  958  443  592  820  780  157  544\n  947  696  258  514  495   57  950   29  825  631  767  556  325  759\n  613  149  850  860  141  991  534  753   22  586  267  203  393  610\n   24  847  404  677  254  318 1000  410  948  382  967  576  488  663\n  222  881]\n\nPrime numbers in the array:\n[977 839 367 929 239   3 443 157 947  29 631 613 149 991 677 967 881]\n",
          "output_type": "stream"
        }
      ],
      "execution_count": 47
    },
    {
      "cell_type": "code",
      "source": "",
      "metadata": {
        "trusted": true
      },
      "outputs": [],
      "execution_count": null
    },
    {
      "cell_type": "markdown",
      "source": "10)Create a NumPy array representing daily temperatures for a month. Calculate and display the weekly \naverages",
      "metadata": {}
    },
    {
      "cell_type": "code",
      "source": "import numpy as np\n\n# Step 1: Create a NumPy array representing daily temperatures for a month (30 days)\n# For simplicity, we'll generate random temperatures between 0 and 35 degrees Celsius\nnp.random.seed(0)  # Seed for reproducibility\ndaily_temperatures = np.random.randint(0, 36, size=30)\n\nprint(\"Daily temperatures for the month:\")\nprint(daily_temperatures)\n\n# Step 2: Reshape the array into a shape of (4, 7) for 4 weeks (assuming 30 days includes 4 full weeks)\n# and 2 extra days; reshaping to 5x7 for simplicity to include all days\nweekly_temperatures = daily_temperatures.reshape(3, 10)\n\n# Step 3: Calculate weekly averages\nweekly_averages = np.mean(weekly_temperatures, axis=1)\n\nprint(\"\\nWeekly averages:\")\nprint(weekly_averages)",
      "metadata": {
        "trusted": true
      },
      "outputs": [
        {
          "name": "stdout",
          "text": "Daily temperatures for the month:\n[ 0  3  3  9 19 21 23  6 24 24 12  1 23 24 17 25 13  8  9 20 16  5 15  0\n 18 35 24 29 19 19]\n\nWeekly averages:\n[13.2 15.2 18. ]\n",
          "output_type": "stream"
        }
      ],
      "execution_count": 58
    }
  ]
}